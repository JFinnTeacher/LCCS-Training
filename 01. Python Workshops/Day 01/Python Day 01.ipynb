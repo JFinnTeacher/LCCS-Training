{
 "cells": [
  {
   "cell_type": "code",
   "execution_count": 1,
   "id": "dbcebc11",
   "metadata": {},
   "outputs": [
    {
     "name": "stdout",
     "output_type": "stream",
     "text": [
      "Hello World\n",
      "Another Line\n",
      "Hello Again\n",
      "35\n",
      "2021\n",
      "1.33\n"
     ]
    }
   ],
   "source": [
    "print(\"Hello World\")\n",
    "print(\"Another Line\")\n",
    "print(\"Hello Again\")\n",
    "print(10+25)\n",
    "print(2021) #integer is same as int\n",
    "print(1.33) # float is integer with decmial"
   ]
  },
  {
   "cell_type": "markdown",
   "id": "a7af5232",
   "metadata": {},
   "source": [
    "# Adding Break Points to a string\n",
    "\n",
    "Including the \\ tells python that everything inside the \\ is part of the parent string This only works on the immediate following character and not everything\n",
    "\n",
    "including \\n moves the rest to the string to a new line, \\t tabs to the next column before continuing the string"
   ]
  },
  {
   "cell_type": "code",
   "execution_count": 2,
   "id": "e34718d8",
   "metadata": {},
   "outputs": [
    {
     "name": "stdout",
     "output_type": "stream",
     "text": [
      "In the words of Nelson Mandela, \"Education is the most powerful weapon which we can use to change the world\"\n",
      "\n",
      "\n",
      "In the words of Nelson Mandela,\n",
      " \t \"Education is the most powerful weapon which we can use to change the world\"\n",
      "\n",
      "\n",
      "A \tB \n",
      "C\n",
      "C:\\Users\\johndoe\\Documents\\myfile.txt\n"
     ]
    }
   ],
   "source": [
    "# Including the \\ tells python that everything inside the \\ is part of the parent string This only works on the immediate following character\n",
    "# and not everything\n",
    "print(\"In the words of Nelson Mandela, \\\"Education is the most powerful weapon which we can use to change the world\\\"\")\n",
    "print(\"\\n\")\n",
    "#including \\n moves the rest to the string to a new line\n",
    "print(\"In the words of Nelson Mandela,\\n \\t \\\"Education is the most powerful weapon which we can use to change the world\\\"\")\n",
    "\n",
    "print(\"\\n\")\n",
    "#Experiment Page 09\n",
    "#A tab to B and C goes to new line\n",
    "print(\"A \\tB \\nC\")\n",
    "#Including the backslash in the string by using a double blackslash\n",
    "print(\"C:\\\\Users\\\\johndoe\\\\Documents\\\\myfile.txt\")"
   ]
  },
  {
   "cell_type": "markdown",
   "id": "763c44ca",
   "metadata": {},
   "source": []
  },
  {
   "cell_type": "code",
   "execution_count": null,
   "id": "5ab7a211",
   "metadata": {},
   "outputs": [],
   "source": []
  }
 ],
 "metadata": {
  "kernelspec": {
   "display_name": "Python 3 (ipykernel)",
   "language": "python",
   "name": "python3"
  },
  "language_info": {
   "codemirror_mode": {
    "name": "ipython",
    "version": 3
   },
   "file_extension": ".py",
   "mimetype": "text/x-python",
   "name": "python",
   "nbconvert_exporter": "python",
   "pygments_lexer": "ipython3",
   "version": "3.10.0"
  }
 },
 "nbformat": 4,
 "nbformat_minor": 5
}
