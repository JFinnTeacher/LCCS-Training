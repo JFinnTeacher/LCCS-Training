{
 "cells": [
  {
   "cell_type": "markdown",
   "id": "7469f30e",
   "metadata": {},
   "source": [
    "# Getting Started"
   ]
  },
  {
   "cell_type": "markdown",
   "id": "7e6f1ee0",
   "metadata": {},
   "source": [
    "Commands in Python are in lower case - Command is print not Print"
   ]
  },
  {
   "cell_type": "markdown",
   "id": "d15fc569",
   "metadata": {},
   "source": [
    "## 01 Hello World\n",
    "Python commands are always in lowercase. The command below will return an error, The error breaks the code and it will not run until the error is resolved"
   ]
  },
  {
   "cell_type": "code",
   "execution_count": 2,
   "id": "fca55473",
   "metadata": {},
   "outputs": [
    {
     "ename": "NameError",
     "evalue": "name 'Print' is not defined",
     "output_type": "error",
     "traceback": [
      "\u001b[1;31m---------------------------------------------------------------------------\u001b[0m",
      "\u001b[1;31mNameError\u001b[0m                                 Traceback (most recent call last)",
      "\u001b[1;32m~\\AppData\\Local\\Temp/ipykernel_2716/2900866392.py\u001b[0m in \u001b[0;36m<module>\u001b[1;34m\u001b[0m\n\u001b[1;32m----> 1\u001b[1;33m \u001b[0mPrint\u001b[0m\u001b[1;33m(\u001b[0m\u001b[1;34m'Hello World'\u001b[0m\u001b[1;33m)\u001b[0m\u001b[1;33m\u001b[0m\u001b[1;33m\u001b[0m\u001b[0m\n\u001b[0m",
      "\u001b[1;31mNameError\u001b[0m: name 'Print' is not defined"
     ]
    }
   ],
   "source": [
    "Print('Hello World')"
   ]
  },
  {
   "cell_type": "markdown",
   "id": "2ebefd78",
   "metadata": {},
   "source": [
    "The Print command is always followed by ()"
   ]
  },
  {
   "cell_type": "code",
   "execution_count": 3,
   "id": "742ef3a0",
   "metadata": {},
   "outputs": [
    {
     "name": "stdout",
     "output_type": "stream",
     "text": [
      "Hello World\n"
     ]
    }
   ],
   "source": [
    "print(\"Hello World\")"
   ]
  },
  {
   "cell_type": "markdown",
   "id": "c21e2af1",
   "metadata": {},
   "source": [
    "Text must be enclosed by \"\" or '' to display properly"
   ]
  },
  {
   "cell_type": "code",
   "execution_count": 4,
   "id": "0ef76128",
   "metadata": {},
   "outputs": [
    {
     "name": "stdout",
     "output_type": "stream",
     "text": [
      "Hello World\n"
     ]
    }
   ],
   "source": [
    "print('Hello World')"
   ]
  },
  {
   "cell_type": "markdown",
   "id": "25b90cbe",
   "metadata": {},
   "source": [
    "### 02 Working with the Print Command"
   ]
  },
  {
   "cell_type": "markdown",
   "id": "50722e7b",
   "metadata": {},
   "source": [
    "Consistancy is important so choose either \"\" or '' for enclosing strings but choose one.\n",
    "Numbers do not need to be enclosed but can be displayed directly, \\Numbers do not need to be enclosed but can be displayed directly"
   ]
  },
  {
   "cell_type": "code",
   "execution_count": 7,
   "id": "4feb8851",
   "metadata": {},
   "outputs": [
    {
     "name": "stdout",
     "output_type": "stream",
     "text": [
      "What is your age?\n",
      "21\n",
      "My age is 21\n"
     ]
    }
   ],
   "source": [
    "print(\"What is your age?\")\n",
    "print(21)\n",
    "print(\"My age is 21\")"
   ]
  },
  {
   "cell_type": "markdown",
   "id": "61e48df4",
   "metadata": {},
   "source": [
    " You can split the print command into various elements through the use of the, The command below is a combination of text and number"
   ]
  },
  {
   "cell_type": "code",
   "execution_count": 8,
   "id": "92c4d60a",
   "metadata": {},
   "outputs": [
    {
     "name": "stdout",
     "output_type": "stream",
     "text": [
      "I am 18 and my friend is 21\n"
     ]
    }
   ],
   "source": [
    "print(\"I am\", 18, \"and my friend is\", 21)"
   ]
  },
  {
   "cell_type": "markdown",
   "id": "32dad434",
   "metadata": {},
   "source": [
    "Whatever is inside \"\" will be displayed. Adding the , adds a space between the strings\n"
   ]
  },
  {
   "cell_type": "code",
   "execution_count": 9,
   "id": "a3c0cee0",
   "metadata": {},
   "outputs": [
    {
     "name": "stdout",
     "output_type": "stream",
     "text": [
      "The print command can handle more than one string\n"
     ]
    }
   ],
   "source": [
    "print(\"The print command\",\"can handle more\",\"than one string\")"
   ]
  },
  {
   "cell_type": "markdown",
   "id": "bb285184",
   "metadata": {},
   "source": [
    "### 03 Escape Sequences\n",
    "\n",
    "An escape sequence allows us to add line breaks and display code characters such as \"  \n",
    "Left as is the line of code below will return an error due to the second \"\n",
    "\n"
   ]
  },
  {
   "cell_type": "code",
   "execution_count": 10,
   "id": "3a1a2e57",
   "metadata": {},
   "outputs": [
    {
     "ename": "SyntaxError",
     "evalue": "invalid syntax. Perhaps you forgot a comma? (Temp/ipykernel_2716/1313906548.py, line 1)",
     "output_type": "error",
     "traceback": [
      "\u001b[1;36m  File \u001b[1;32m\"C:\\Users\\finnj\\AppData\\Local\\Temp/ipykernel_2716/1313906548.py\"\u001b[1;36m, line \u001b[1;32m1\u001b[0m\n\u001b[1;33m    print(\"In the words of Nelson Mandela, \"Education is the most powerful weapon which we can use to change the world\"\")\u001b[0m\n\u001b[1;37m          ^\u001b[0m\n\u001b[1;31mSyntaxError\u001b[0m\u001b[1;31m:\u001b[0m invalid syntax. Perhaps you forgot a comma?\n"
     ]
    }
   ],
   "source": [
    "print(\"In the words of Nelson Mandela, \"Education is the most powerful weapon which we can use to change the world\"\")"
   ]
  },
  {
   "cell_type": "markdown",
   "id": "27353113",
   "metadata": {},
   "source": [
    "The \\ in the string tells python to display the code exactly as is as part of the string."
   ]
  },
  {
   "cell_type": "code",
   "execution_count": 11,
   "id": "56fedc6b",
   "metadata": {},
   "outputs": [
    {
     "name": "stdout",
     "output_type": "stream",
     "text": [
      "In the words of Nelson Mandela, \"Education is the most powerful weapon which we can use to change the world \"\n"
     ]
    }
   ],
   "source": [
    "print(\"In the words of Nelson Mandela, \\\"Education is the most powerful weapon which we can use to change the world \\\"\")"
   ]
  },
  {
   "cell_type": "markdown",
   "id": "e7c54708",
   "metadata": {},
   "source": [
    "Escape sequences are  \n",
    "\\n - New Line  \n",
    "\\t - Tab  \n",
    "\\' - Single Quote  \n",
    "\\\" - Double Quote  \n",
    "\\\\ - Backslash  "
   ]
  },
  {
   "cell_type": "code",
   "execution_count": 12,
   "id": "eaa39bf9",
   "metadata": {},
   "outputs": [
    {
     "name": "stdout",
     "output_type": "stream",
     "text": [
      "A\tB\n",
      "C\n"
     ]
    }
   ],
   "source": [
    "print(\"A\\tB\\nC\")"
   ]
  },
  {
   "cell_type": "code",
   "execution_count": 13,
   "id": "3dc9c507",
   "metadata": {},
   "outputs": [
    {
     "name": "stdout",
     "output_type": "stream",
     "text": [
      "C:\\Users\\johndoe\\Documents\\mytextfile.txt\n"
     ]
    }
   ],
   "source": [
    "print(\"C:\\\\Users\\\\johndoe\\\\Documents\\\\mytextfile.txt\")"
   ]
  },
  {
   "cell_type": "markdown",
   "id": "3e9dd8ad",
   "metadata": {},
   "source": [
    "### Exercise 01  \n",
    "The following code block will display 4 lines of code  \n",
    "print(\"As I was going out one day\")  \n",
    "print(\"My head fell off and rolled away,\")  \n",
    "print(\"But when I saw that it was gone,\")  \n",
    "print(\"I picked it up and put it on.\")  \n",
    "\n",
    "Use Escape Sequences to create this using only 1 print command\n"
   ]
  },
  {
   "cell_type": "code",
   "execution_count": 15,
   "id": "120be45d",
   "metadata": {
    "scrolled": true
   },
   "outputs": [
    {
     "name": "stdout",
     "output_type": "stream",
     "text": [
      "As I was going out one day \n",
      " My head fell off and rolled away \n",
      " But when I saw that it was gone \n",
      " I picked it up and put it on\n"
     ]
    }
   ],
   "source": [
    "print(\"As I was going out one day \\n My head fell off and rolled away \\n But when I saw that it was gone \\n I picked it up and put it on\")"
   ]
  },
  {
   "cell_type": "markdown",
   "id": "ad7a677e",
   "metadata": {},
   "source": [
    "#### Inentation  \n",
    "Indenting of code is central to how python works. The block of code will return an error due to the second line of code indented by one space"
   ]
  },
  {
   "cell_type": "code",
   "execution_count": 16,
   "id": "dba71c0d",
   "metadata": {},
   "outputs": [
    {
     "ename": "IndentationError",
     "evalue": "unexpected indent (Temp/ipykernel_2716/4234536331.py, line 2)",
     "output_type": "error",
     "traceback": [
      "\u001b[1;36m  File \u001b[1;32m\"C:\\Users\\finnj\\AppData\\Local\\Temp/ipykernel_2716/4234536331.py\"\u001b[1;36m, line \u001b[1;32m2\u001b[0m\n\u001b[1;33m    print(\"My head fell off and rolled away,\")\u001b[0m\n\u001b[1;37m    ^\u001b[0m\n\u001b[1;31mIndentationError\u001b[0m\u001b[1;31m:\u001b[0m unexpected indent\n"
     ]
    }
   ],
   "source": [
    "print(\"As I was going out one day\")\n",
    " print(\"My head fell off and rolled away,\")\n",
    "print(\"But when I saw that it was gone,\")\n",
    "print(\"I picked it up and put it on.\")"
   ]
  },
  {
   "cell_type": "markdown",
   "id": "0a5ab6cf",
   "metadata": {},
   "source": [
    "### Exercises Page 12"
   ]
  },
  {
   "cell_type": "code",
   "execution_count": 17,
   "id": "c19a6144",
   "metadata": {},
   "outputs": [
    {
     "name": "stdout",
     "output_type": "stream",
     "text": [
      "###### ###### ######\n",
      "    ## ##     ##\n",
      "###### ###### ######\n",
      "    ## ##  ##     ##\n",
      "###### ###### ######\n"
     ]
    }
   ],
   "source": [
    "print(\"###### ###### ######\")\n",
    "print(\"    ## ##     ##\")\n",
    "print(\"###### ###### ######\")\n",
    "print(\"    ## ##  ##     ##\")\n",
    "print(\"###### ###### ######\")"
   ]
  },
  {
   "cell_type": "markdown",
   "id": "3dc5218b",
   "metadata": {},
   "source": [
    "### Breakout Pg 13\n",
    "\n",
    "Series of Breakout exercises"
   ]
  },
  {
   "cell_type": "code",
   "execution_count": 18,
   "id": "1657acc5",
   "metadata": {},
   "outputs": [
    {
     "name": "stdout",
     "output_type": "stream",
     "text": [
      "\t|-------------------------------|\n",
      "\t|\t LCCS BANK LIMITED\t|\n",
      "\t|\t ATM Main Menu\t\t|\n",
      "\t|\t\t\t\t|\n",
      "\t|\t1. Balance Enquiry\t|\n",
      "\t|\t2. Cash Lodgement\t|\n",
      "\t|\t3. Cash Withdrawal\t|\n",
      "\t|\t4. Cash Transfer\t|\n",
      "\t|\t5. Change PIN\t\t|\n",
      "\t|\t6. Other Services\t|\n",
      "\t|\t\t\t\t|\n",
      "\t|\t7. Exit\t\t\t|\n",
      "\t|-------------------------------|\n",
      "\t|\t\t\t\t|\n",
      "\t| CHOOSE AN OPTION >> \t\t|\n",
      "\t|\t\t\t\t|\n",
      "\t|-------------------------------|\n",
      "\n"
     ]
    }
   ],
   "source": [
    "print(\"\\t|-------------------------------|\")\n",
    "print(\"\\t|\\t LCCS BANK LIMITED\\t|\")\n",
    "print(\"\\t|\\t ATM Main Menu\\t\\t|\")\n",
    "print(\"\\t|\\t\\t\\t\\t|\")\n",
    "print(\"\\t|\\t1. Balance Enquiry\\t|\")\n",
    "print(\"\\t|\\t2. Cash Lodgement\\t|\")\n",
    "print(\"\\t|\\t3. Cash Withdrawal\\t|\")\n",
    "print(\"\\t|\\t4. Cash Transfer\\t|\")\n",
    "print(\"\\t|\\t5. Change PIN\\t\\t|\")\n",
    "print(\"\\t|\\t6. Other Services\\t|\")\n",
    "print(\"\\t|\\t\\t\\t\\t|\")\n",
    "print(\"\\t|\\t7. Exit\\t\\t\\t|\")\n",
    "print(\"\\t|-------------------------------|\")\n",
    "print(\"\\t|\\t\\t\\t\\t|\")\n",
    "print(\"\\t| CHOOSE AN OPTION >> \\t\\t|\")\n",
    "print(\"\\t|\\t\\t\\t\\t|\")\n",
    "print(\"\\t|-------------------------------|\")\n",
    "print(\"\")"
   ]
  },
  {
   "cell_type": "markdown",
   "id": "d1676775",
   "metadata": {},
   "source": [
    "### Breakout 1.2 - Turtle Graphics  \n",
    "Turtle Graphics is a basic way to display graphics in a window"
   ]
  },
  {
   "cell_type": "code",
   "execution_count": 19,
   "id": "71194ad9",
   "metadata": {},
   "outputs": [],
   "source": [
    "from turtle import * # This command imports all commands from Turtle library\n",
    "\n",
    "forward(100)\n",
    "left(90)\n",
    "forward(100)\n",
    "right(45)\n",
    "forward(50)\n",
    "left(90)\n",
    "forward(100)"
   ]
  },
  {
   "cell_type": "markdown",
   "id": "8203a89f",
   "metadata": {},
   "source": [
    "### Further Exercises"
   ]
  },
  {
   "cell_type": "code",
   "execution_count": 2,
   "id": "116cce83",
   "metadata": {},
   "outputs": [],
   "source": [
    "from turtle import *\n",
    "\n",
    "# Black Square 50 x 50\n",
    "\n",
    "forward(50)\n",
    "left(90)\n",
    "forward(50)\n",
    "left(90)\n",
    "forward(50)\n",
    "left(90)\n",
    "forward(50)\n"
   ]
  },
  {
   "cell_type": "code",
   "execution_count": 2,
   "id": "f5f08621",
   "metadata": {},
   "outputs": [],
   "source": [
    "from turtle import *\n",
    "\n",
    "# Red Rectangle 50 x 100\n",
    "\n",
    "color(\"red\")\n",
    "forward(50)\n",
    "left(90)\n",
    "forward(100)\n",
    "left(90)\n",
    "forward(50)\n",
    "left(90)\n",
    "forward(100)"
   ]
  },
  {
   "cell_type": "code",
   "execution_count": 1,
   "id": "1c10a104",
   "metadata": {},
   "outputs": [],
   "source": [
    "from turtle import *\n",
    "\n",
    "# Vertical Blue Line 5 wide 100 long\n",
    "\n",
    "color(\"blue\")\n",
    "pensize(5)\n",
    "left(90)\n",
    "forward(100)"
   ]
  },
  {
   "cell_type": "code",
   "execution_count": 1,
   "id": "215ebfcf",
   "metadata": {},
   "outputs": [],
   "source": [
    "from turtle import *\n",
    "\n",
    "# Letter T\n",
    "\n",
    "color(\"red\")\n",
    "hideturtle()\n",
    "forward(100)\n",
    "back(50)\n",
    "right(90)\n",
    "forward(100)"
   ]
  },
  {
   "cell_type": "markdown",
   "id": "548c8519",
   "metadata": {},
   "source": [
    "### Exercise - Working with Pygame"
   ]
  },
  {
   "cell_type": "code",
   "execution_count": null,
   "id": "83d9810d",
   "metadata": {},
   "outputs": [
    {
     "name": "stdout",
     "output_type": "stream",
     "text": [
      "pygame 2.1.0 (SDL 2.0.16, Python 3.10.0)\n",
      "Hello from the pygame community. https://www.pygame.org/contribute.html\n"
     ]
    }
   ],
   "source": [
    "# Event: LCCS Python Fundamental Skills Workshop\n",
    "# Date: May 2018\n",
    "# Author: Joe English, PDST\n",
    "# eMail: computerscience@pdst.ie\n",
    "# Purpose: To demonstrate the use of the pygame library\n",
    "\n",
    "import pygame, sys\n",
    "\n",
    "# set up pygame\n",
    "pygame.init()\n",
    "window = pygame.display.set_mode((400, 500)) # (width, height)\n",
    "\n",
    "# set up the colours\n",
    "BLACK = (0, 0, 0)\n",
    "RED = (255, 0, 0)\n",
    "GREEN = (0, 255, 0)\n",
    "BLUE = (0, 0, 255)\n",
    "WHITE = (255, 255, 255)\n",
    "\n",
    "# draw some shapes\n",
    "pygame.draw.line(window,    BLUE, (50,   50), (250, 50), 4)\n",
    "pygame.draw.line(window,    GREEN,(100, 250), (250, 50), 2)\n",
    "pygame.draw.rect(window,    WHITE,(100, 250,   200, 75))\n",
    "pygame.draw.circle(window,  RED,  (300, 250),  30, 0)\n",
    "pygame.draw.ellipse(window, RED,  (200, 400,   40, 80), 1)\n",
    "\n",
    "# update the window display\n",
    "pygame.display.update()\n",
    "\n",
    "# run the game loop\n",
    "while True:\n",
    "    for event in pygame.event.get():\n",
    "        if event.type == 12:\n",
    "            #print(event.type)\n",
    "            pygame.quit()\n",
    "            sys.exit()"
   ]
  },
  {
   "cell_type": "code",
   "execution_count": null,
   "id": "1084366d",
   "metadata": {},
   "outputs": [],
   "source": []
  }
 ],
 "metadata": {
  "kernelspec": {
   "display_name": "Python 3 (ipykernel)",
   "language": "python",
   "name": "python3"
  },
  "language_info": {
   "codemirror_mode": {
    "name": "ipython",
    "version": 3
   },
   "file_extension": ".py",
   "mimetype": "text/x-python",
   "name": "python",
   "nbconvert_exporter": "python",
   "pygments_lexer": "ipython3",
   "version": "3.10.0"
  }
 },
 "nbformat": 4,
 "nbformat_minor": 5
}
